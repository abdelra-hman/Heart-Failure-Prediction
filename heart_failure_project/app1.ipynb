{
 "cells": [
  {
   "cell_type": "code",
   "execution_count": 1,
   "id": "b961b2a1",
   "metadata": {},
   "outputs": [
    {
     "name": "stderr",
     "output_type": "stream",
     "text": [
      "c:\\Users\\ENG_ABDELRAHMAN\\AppData\\Local\\Programs\\Python\\Python313\\Lib\\site-packages\\tqdm\\auto.py:21: TqdmWarning: IProgress not found. Please update jupyter and ipywidgets. See https://ipywidgets.readthedocs.io/en/stable/user_install.html\n",
      "  from .autonotebook import tqdm as notebook_tqdm\n"
     ]
    }
   ],
   "source": [
    "import gradio as gr\n",
    "import joblib\n",
    "import numpy as np"
   ]
  },
  {
   "cell_type": "code",
   "execution_count": 2,
   "id": "bd5f3c6a",
   "metadata": {},
   "outputs": [
    {
     "name": "stderr",
     "output_type": "stream",
     "text": [
      "c:\\Users\\ENG_ABDELRAHMAN\\AppData\\Local\\Programs\\Python\\Python313\\Lib\\site-packages\\sklearn\\base.py:440: InconsistentVersionWarning: Trying to unpickle estimator DecisionTreeClassifier from version 1.6.1 when using version 1.7.0. This might lead to breaking code or invalid results. Use at your own risk. For more info please refer to:\n",
      "https://scikit-learn.org/stable/model_persistence.html#security-maintainability-limitations\n",
      "  warnings.warn(\n",
      "c:\\Users\\ENG_ABDELRAHMAN\\AppData\\Local\\Programs\\Python\\Python313\\Lib\\site-packages\\sklearn\\base.py:440: InconsistentVersionWarning: Trying to unpickle estimator RandomForestClassifier from version 1.6.1 when using version 1.7.0. This might lead to breaking code or invalid results. Use at your own risk. For more info please refer to:\n",
      "https://scikit-learn.org/stable/model_persistence.html#security-maintainability-limitations\n",
      "  warnings.warn(\n",
      "c:\\Users\\ENG_ABDELRAHMAN\\AppData\\Local\\Programs\\Python\\Python313\\Lib\\site-packages\\sklearn\\base.py:440: InconsistentVersionWarning: Trying to unpickle estimator StandardScaler from version 1.6.1 when using version 1.7.0. This might lead to breaking code or invalid results. Use at your own risk. For more info please refer to:\n",
      "https://scikit-learn.org/stable/model_persistence.html#security-maintainability-limitations\n",
      "  warnings.warn(\n"
     ]
    }
   ],
   "source": [
    "# Load the trained Random Forest model and the scaler\n",
    "model = joblib.load(\"random_forest_model.pkl\")\n",
    "scaler = joblib.load(\"scaler.pkl\")"
   ]
  },
  {
   "cell_type": "code",
   "execution_count": 3,
   "id": "4d204fb9",
   "metadata": {},
   "outputs": [],
   "source": [
    "# Define the prediction function that will be used by the Gradio interface\n",
    "\n",
    "def predict(age, anaemia, creatinine_phosphokinase, diabetes, ejection_fraction, high_blood_pressure,\n",
    "            platelets, serum_creatinine, serum_sodium, smoking, time):\n",
    "    \n",
    "    try:\n",
    "        #convet inputs to float\n",
    "        age = float(age)\n",
    "        anaemia = float(anaemia)\n",
    "        cpk = float(creatinine_phosphokinase)\n",
    "        diabetes = float(diabetes)\n",
    "        ef = float(ejection_fraction)\n",
    "        hbp = float(high_blood_pressure)\n",
    "        platelets = float(platelets)\n",
    "        creatinine = float(serum_creatinine)\n",
    "        sodium = float(serum_sodium)\n",
    "        smoking = float(smoking)\n",
    "        time = float(time)\n",
    "\n",
    "        # Create derived features (these were included in model training)\n",
    "\n",
    "        platelets_per_age = platelets / (age + 1e-5)\n",
    "        EF_per_age = ef / (age + 1e-5)\n",
    "        time_ratio = time / (creatinine + 1e-5)\n",
    "\n",
    "        # Combine all 14 features expected by the model\n",
    "        features = np.array([[age, anaemia, cpk, diabetes, ef, hbp, platelets,\n",
    "                              creatinine, sodium, smoking, time,\n",
    "                              platelets_per_age, EF_per_age, time_ratio]])\n",
    "\n",
    "        # Scale the features using the same scaler used in training\n",
    "        features_scaled = scaler.transform(features)\n",
    "                \n",
    "        # Make prediction (1 = death, 0 = survived)\n",
    "        prediction = model.predict(features_scaled)[0]\n",
    "\n",
    "        # Return human-readable result\n",
    "        return \"❌ Death Expected\" if prediction == 1 else \"✅ Survived\"\n",
    "\n",
    "    except Exception as e:\n",
    "        # Return any error that occurs (e.g., input format error)\n",
    "        return f\"⚠️ Error: {str(e)}\"\n"
   ]
  },
  {
   "cell_type": "code",
   "execution_count": 4,
   "id": "80718b05",
   "metadata": {},
   "outputs": [],
   "source": [
    "# Define the Gradio interface for user input/output\n",
    "iface = gr.Interface(\n",
    "    fn=predict,   # Link to prediction function\n",
    "    inputs=[\n",
    "        gr.Number(label=\"Age\"),\n",
    "        gr.Radio([0, 1], label=\"Anaemia (1 = Yes, 0 = No)\"),\n",
    "        gr.Number(label=\"Creatinine Phosphokinase\"),\n",
    "        gr.Radio([0, 1], label=\"Diabetes (1 = Yes, 0 = No)\"),\n",
    "        gr.Number(label=\"Ejection Fraction\"),\n",
    "        gr.Radio([0, 1], label=\"High Blood Pressure (1 = Yes, 0 = No)\"),\n",
    "        gr.Number(label=\"Platelets\"),\n",
    "        gr.Number(label=\"Serum Creatinine\"),\n",
    "        gr.Number(label=\"Serum Sodium\"),\n",
    "        gr.Radio([0, 1], label=\"Smoking (1 = Yes, 0 = No)\"),\n",
    "        gr.Number(label=\"Follow-up Time (days)\")\n",
    "    ],\n",
    "    outputs=gr.Text(label=\"Prediction Result\"), # Display output as text\n",
    "    title=\"Heart Failure Prediction \",  # App title\n",
    "    \n",
    ")"
   ]
  },
  {
   "cell_type": "code",
   "execution_count": 5,
   "id": "92e3454f",
   "metadata": {},
   "outputs": [
    {
     "name": "stdout",
     "output_type": "stream",
     "text": [
      "* Running on local URL:  http://127.0.0.1:7861\n",
      "* To create a public link, set `share=True` in `launch()`.\n"
     ]
    },
    {
     "data": {
      "text/html": [
       "<div><iframe src=\"http://127.0.0.1:7861/\" width=\"100%\" height=\"500\" allow=\"autoplay; camera; microphone; clipboard-read; clipboard-write;\" frameborder=\"0\" allowfullscreen></iframe></div>"
      ],
      "text/plain": [
       "<IPython.core.display.HTML object>"
      ]
     },
     "metadata": {},
     "output_type": "display_data"
    }
   ],
   "source": [
    "if __name__ == \"__main__\":\n",
    "    iface.launch()"
   ]
  }
 ],
 "metadata": {
  "kernelspec": {
   "display_name": "Python 3",
   "language": "python",
   "name": "python3"
  },
  "language_info": {
   "codemirror_mode": {
    "name": "ipython",
    "version": 3
   },
   "file_extension": ".py",
   "mimetype": "text/x-python",
   "name": "python",
   "nbconvert_exporter": "python",
   "pygments_lexer": "ipython3",
   "version": "3.13.3"
  }
 },
 "nbformat": 4,
 "nbformat_minor": 5
}
